{
 "cells": [
  {
   "cell_type": "code",
   "execution_count": 2,
   "metadata": {},
   "outputs": [],
   "source": [
    "import tweepy"
   ]
  },
  {
   "cell_type": "code",
   "execution_count": 3,
   "metadata": {},
   "outputs": [],
   "source": [
    "consumer_key =\"o39SbBGOxeZ1pr10I0MjQJEgE\"\n",
    "consumer_secret =\"WSBblqeUWcLnQ1seusYNRIZlttMLRrlOUGD09NpgyZ56FO01Dp\"\n",
    "access_token =\"1245687086243438598-RwXIso7ltWLD7JtcInCpM1VTi3Rz6E\"\n",
    "access_token_secret =\"9DPqdcuIIvhjWS4bd9oRxI869O4wpPdHdqbpi8uPIzOJS\""
   ]
  },
  {
   "cell_type": "code",
   "execution_count": 4,
   "metadata": {},
   "outputs": [],
   "source": [
    "auth = tweepy.OAuthHandler(consumer_key, consumer_secret) "
   ]
  },
  {
   "cell_type": "code",
   "execution_count": 5,
   "metadata": {},
   "outputs": [],
   "source": [
    "auth.set_access_token(access_token, access_token_secret) \n",
    "api = tweepy.API(auth) "
   ]
  },
  {
   "cell_type": "code",
   "execution_count": null,
   "metadata": {},
   "outputs": [],
   "source": []
  },
  {
   "cell_type": "code",
   "execution_count": 12,
   "metadata": {},
   "outputs": [],
   "source": [
    "tweet=\"#coronavirusindia  update:\\nconfirmed cases:  2032\\nrecovered: 148,\\ndeath: 58\\nhttps://coronaindia.ml\\n#COVID #COVID19Pandemic #coronaupdatesindia  #coronavirus #COVID19outbreak\"\n",
    "\n"
   ]
  },
  {
   "cell_type": "code",
   "execution_count": 13,
   "metadata": {},
   "outputs": [
    {
     "data": {
      "text/plain": [
       "Status(_api=<tweepy.api.API object at 0x000001C91AB5D7C8>, _json={'created_at': 'Thu Apr 02 14:22:15 +0000 2020', 'id': 1245718190727892992, 'id_str': '1245718190727892992', 'text': '#coronavirusindia  update:\\nconfirmed cases:  2032\\nrecovered: 148,\\ndeath: 58\\nhttps://t.co/vQc6Y9RxMV\\n#COVID… https://t.co/P0GTMQNMzi', 'truncated': True, 'entities': {'hashtags': [{'text': 'coronavirusindia', 'indices': [0, 17]}, {'text': 'COVID', 'indices': [100, 106]}], 'symbols': [], 'user_mentions': [], 'urls': [{'url': 'https://t.co/vQc6Y9RxMV', 'expanded_url': 'https://coronaindia.ml', 'display_url': 'coronaindia.ml', 'indices': [76, 99]}, {'url': 'https://t.co/P0GTMQNMzi', 'expanded_url': 'https://twitter.com/i/web/status/1245718190727892992', 'display_url': 'twitter.com/i/web/status/1…', 'indices': [108, 131]}]}, 'source': '<a href=\"https://coronaindia.ml/\" rel=\"nofollow\">coronaindia</a>', 'in_reply_to_status_id': None, 'in_reply_to_status_id_str': None, 'in_reply_to_user_id': None, 'in_reply_to_user_id_str': None, 'in_reply_to_screen_name': None, 'user': {'id': 1245687086243438598, 'id_str': '1245687086243438598', 'name': 'coronaindia.ml', 'screen_name': 'coronaindia_ml', 'location': '', 'description': 'https://t.co/5rf8d6ZFBa', 'url': None, 'entities': {'description': {'urls': [{'url': 'https://t.co/5rf8d6ZFBa', 'expanded_url': 'https://coronaindia.ml/', 'display_url': 'coronaindia.ml', 'indices': [0, 23]}]}}, 'protected': False, 'followers_count': 1, 'friends_count': 0, 'listed_count': 0, 'created_at': 'Thu Apr 02 12:19:11 +0000 2020', 'favourites_count': 0, 'utc_offset': None, 'time_zone': None, 'geo_enabled': False, 'verified': False, 'statuses_count': 2, 'lang': None, 'contributors_enabled': False, 'is_translator': False, 'is_translation_enabled': False, 'profile_background_color': 'F5F8FA', 'profile_background_image_url': None, 'profile_background_image_url_https': None, 'profile_background_tile': False, 'profile_image_url': 'http://pbs.twimg.com/profile_images/1245708659688009729/7DAz5pmT_normal.png', 'profile_image_url_https': 'https://pbs.twimg.com/profile_images/1245708659688009729/7DAz5pmT_normal.png', 'profile_link_color': '1DA1F2', 'profile_sidebar_border_color': 'C0DEED', 'profile_sidebar_fill_color': 'DDEEF6', 'profile_text_color': '333333', 'profile_use_background_image': True, 'has_extended_profile': False, 'default_profile': True, 'default_profile_image': False, 'following': False, 'follow_request_sent': False, 'notifications': False, 'translator_type': 'none'}, 'geo': None, 'coordinates': None, 'place': None, 'contributors': None, 'is_quote_status': False, 'retweet_count': 0, 'favorite_count': 0, 'favorited': False, 'retweeted': False, 'possibly_sensitive': False, 'lang': 'en'}, created_at=datetime.datetime(2020, 4, 2, 14, 22, 15), id=1245718190727892992, id_str='1245718190727892992', text='#coronavirusindia  update:\\nconfirmed cases:  2032\\nrecovered: 148,\\ndeath: 58\\nhttps://t.co/vQc6Y9RxMV\\n#COVID… https://t.co/P0GTMQNMzi', truncated=True, entities={'hashtags': [{'text': 'coronavirusindia', 'indices': [0, 17]}, {'text': 'COVID', 'indices': [100, 106]}], 'symbols': [], 'user_mentions': [], 'urls': [{'url': 'https://t.co/vQc6Y9RxMV', 'expanded_url': 'https://coronaindia.ml', 'display_url': 'coronaindia.ml', 'indices': [76, 99]}, {'url': 'https://t.co/P0GTMQNMzi', 'expanded_url': 'https://twitter.com/i/web/status/1245718190727892992', 'display_url': 'twitter.com/i/web/status/1…', 'indices': [108, 131]}]}, source='coronaindia', source_url='https://coronaindia.ml/', in_reply_to_status_id=None, in_reply_to_status_id_str=None, in_reply_to_user_id=None, in_reply_to_user_id_str=None, in_reply_to_screen_name=None, author=User(_api=<tweepy.api.API object at 0x000001C91AB5D7C8>, _json={'id': 1245687086243438598, 'id_str': '1245687086243438598', 'name': 'coronaindia.ml', 'screen_name': 'coronaindia_ml', 'location': '', 'description': 'https://t.co/5rf8d6ZFBa', 'url': None, 'entities': {'description': {'urls': [{'url': 'https://t.co/5rf8d6ZFBa', 'expanded_url': 'https://coronaindia.ml/', 'display_url': 'coronaindia.ml', 'indices': [0, 23]}]}}, 'protected': False, 'followers_count': 1, 'friends_count': 0, 'listed_count': 0, 'created_at': 'Thu Apr 02 12:19:11 +0000 2020', 'favourites_count': 0, 'utc_offset': None, 'time_zone': None, 'geo_enabled': False, 'verified': False, 'statuses_count': 2, 'lang': None, 'contributors_enabled': False, 'is_translator': False, 'is_translation_enabled': False, 'profile_background_color': 'F5F8FA', 'profile_background_image_url': None, 'profile_background_image_url_https': None, 'profile_background_tile': False, 'profile_image_url': 'http://pbs.twimg.com/profile_images/1245708659688009729/7DAz5pmT_normal.png', 'profile_image_url_https': 'https://pbs.twimg.com/profile_images/1245708659688009729/7DAz5pmT_normal.png', 'profile_link_color': '1DA1F2', 'profile_sidebar_border_color': 'C0DEED', 'profile_sidebar_fill_color': 'DDEEF6', 'profile_text_color': '333333', 'profile_use_background_image': True, 'has_extended_profile': False, 'default_profile': True, 'default_profile_image': False, 'following': False, 'follow_request_sent': False, 'notifications': False, 'translator_type': 'none'}, id=1245687086243438598, id_str='1245687086243438598', name='coronaindia.ml', screen_name='coronaindia_ml', location='', description='https://t.co/5rf8d6ZFBa', url=None, entities={'description': {'urls': [{'url': 'https://t.co/5rf8d6ZFBa', 'expanded_url': 'https://coronaindia.ml/', 'display_url': 'coronaindia.ml', 'indices': [0, 23]}]}}, protected=False, followers_count=1, friends_count=0, listed_count=0, created_at=datetime.datetime(2020, 4, 2, 12, 19, 11), favourites_count=0, utc_offset=None, time_zone=None, geo_enabled=False, verified=False, statuses_count=2, lang=None, contributors_enabled=False, is_translator=False, is_translation_enabled=False, profile_background_color='F5F8FA', profile_background_image_url=None, profile_background_image_url_https=None, profile_background_tile=False, profile_image_url='http://pbs.twimg.com/profile_images/1245708659688009729/7DAz5pmT_normal.png', profile_image_url_https='https://pbs.twimg.com/profile_images/1245708659688009729/7DAz5pmT_normal.png', profile_link_color='1DA1F2', profile_sidebar_border_color='C0DEED', profile_sidebar_fill_color='DDEEF6', profile_text_color='333333', profile_use_background_image=True, has_extended_profile=False, default_profile=True, default_profile_image=False, following=False, follow_request_sent=False, notifications=False, translator_type='none'), user=User(_api=<tweepy.api.API object at 0x000001C91AB5D7C8>, _json={'id': 1245687086243438598, 'id_str': '1245687086243438598', 'name': 'coronaindia.ml', 'screen_name': 'coronaindia_ml', 'location': '', 'description': 'https://t.co/5rf8d6ZFBa', 'url': None, 'entities': {'description': {'urls': [{'url': 'https://t.co/5rf8d6ZFBa', 'expanded_url': 'https://coronaindia.ml/', 'display_url': 'coronaindia.ml', 'indices': [0, 23]}]}}, 'protected': False, 'followers_count': 1, 'friends_count': 0, 'listed_count': 0, 'created_at': 'Thu Apr 02 12:19:11 +0000 2020', 'favourites_count': 0, 'utc_offset': None, 'time_zone': None, 'geo_enabled': False, 'verified': False, 'statuses_count': 2, 'lang': None, 'contributors_enabled': False, 'is_translator': False, 'is_translation_enabled': False, 'profile_background_color': 'F5F8FA', 'profile_background_image_url': None, 'profile_background_image_url_https': None, 'profile_background_tile': False, 'profile_image_url': 'http://pbs.twimg.com/profile_images/1245708659688009729/7DAz5pmT_normal.png', 'profile_image_url_https': 'https://pbs.twimg.com/profile_images/1245708659688009729/7DAz5pmT_normal.png', 'profile_link_color': '1DA1F2', 'profile_sidebar_border_color': 'C0DEED', 'profile_sidebar_fill_color': 'DDEEF6', 'profile_text_color': '333333', 'profile_use_background_image': True, 'has_extended_profile': False, 'default_profile': True, 'default_profile_image': False, 'following': False, 'follow_request_sent': False, 'notifications': False, 'translator_type': 'none'}, id=1245687086243438598, id_str='1245687086243438598', name='coronaindia.ml', screen_name='coronaindia_ml', location='', description='https://t.co/5rf8d6ZFBa', url=None, entities={'description': {'urls': [{'url': 'https://t.co/5rf8d6ZFBa', 'expanded_url': 'https://coronaindia.ml/', 'display_url': 'coronaindia.ml', 'indices': [0, 23]}]}}, protected=False, followers_count=1, friends_count=0, listed_count=0, created_at=datetime.datetime(2020, 4, 2, 12, 19, 11), favourites_count=0, utc_offset=None, time_zone=None, geo_enabled=False, verified=False, statuses_count=2, lang=None, contributors_enabled=False, is_translator=False, is_translation_enabled=False, profile_background_color='F5F8FA', profile_background_image_url=None, profile_background_image_url_https=None, profile_background_tile=False, profile_image_url='http://pbs.twimg.com/profile_images/1245708659688009729/7DAz5pmT_normal.png', profile_image_url_https='https://pbs.twimg.com/profile_images/1245708659688009729/7DAz5pmT_normal.png', profile_link_color='1DA1F2', profile_sidebar_border_color='C0DEED', profile_sidebar_fill_color='DDEEF6', profile_text_color='333333', profile_use_background_image=True, has_extended_profile=False, default_profile=True, default_profile_image=False, following=False, follow_request_sent=False, notifications=False, translator_type='none'), geo=None, coordinates=None, place=None, contributors=None, is_quote_status=False, retweet_count=0, favorite_count=0, favorited=False, retweeted=False, possibly_sensitive=False, lang='en')"
      ]
     },
     "execution_count": 13,
     "metadata": {},
     "output_type": "execute_result"
    }
   ],
   "source": [
    "api.update_status(status =tweet) "
   ]
  },
  {
   "cell_type": "code",
   "execution_count": null,
   "metadata": {},
   "outputs": [],
   "source": []
  },
  {
   "cell_type": "code",
   "execution_count": 17,
   "metadata": {},
   "outputs": [
    {
     "ename": "SyntaxError",
     "evalue": "invalid syntax (<ipython-input-17-173d90244d9b>, line 2)",
     "output_type": "error",
     "traceback": [
      "\u001b[1;36m  File \u001b[1;32m\"<ipython-input-17-173d90244d9b>\"\u001b[1;36m, line \u001b[1;32m2\u001b[0m\n\u001b[1;33m    ss=\"avdsahf {'active'} sfhdg\".format('active':aa)\u001b[0m\n\u001b[1;37m                                                 ^\u001b[0m\n\u001b[1;31mSyntaxError\u001b[0m\u001b[1;31m:\u001b[0m invalid syntax\n"
     ]
    }
   ],
   "source": [
    "aa=123\n",
    "ss=\"avdsahf {'active'} sfhdg\".format('active':aa)"
   ]
  },
  {
   "cell_type": "code",
   "execution_count": 16,
   "metadata": {},
   "outputs": [
    {
     "data": {
      "text/plain": [
       "'avdsahf 123 sfhdg'"
      ]
     },
     "execution_count": 16,
     "metadata": {},
     "output_type": "execute_result"
    }
   ],
   "source": [
    "ss"
   ]
  },
  {
   "cell_type": "code",
   "execution_count": null,
   "metadata": {},
   "outputs": [],
   "source": []
  }
 ],
 "metadata": {
  "kernelspec": {
   "display_name": "Python 3",
   "language": "python",
   "name": "python3"
  },
  "language_info": {
   "codemirror_mode": {
    "name": "ipython",
    "version": 3
   },
   "file_extension": ".py",
   "mimetype": "text/x-python",
   "name": "python",
   "nbconvert_exporter": "python",
   "pygments_lexer": "ipython3",
   "version": "3.7.4"
  }
 },
 "nbformat": 4,
 "nbformat_minor": 2
}
