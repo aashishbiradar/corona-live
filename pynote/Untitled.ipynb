{
 "cells": [
  {
   "cell_type": "code",
   "execution_count": 16,
   "metadata": {},
   "outputs": [],
   "source": [
    "import requests\n",
    "import urllib.request\n",
    "import time\n",
    "from bs4 import BeautifulSoup\n",
    "from datetime import datetime\n",
    "import re"
   ]
  },
  {
   "cell_type": "code",
   "execution_count": null,
   "metadata": {},
   "outputs": [],
   "source": []
  },
  {
   "cell_type": "code",
   "execution_count": null,
   "metadata": {},
   "outputs": [],
   "source": []
  },
  {
   "cell_type": "code",
   "execution_count": null,
   "metadata": {},
   "outputs": [],
   "source": []
  },
  {
   "cell_type": "code",
   "execution_count": 6,
   "metadata": {},
   "outputs": [],
   "source": [
    "soup = BeautifulSoup(response.text, \"html.parser\")"
   ]
  },
  {
   "cell_type": "code",
   "execution_count": 18,
   "metadata": {},
   "outputs": [],
   "source": [
    "def remove_html_tags(text):\n",
    "    \"\"\"Remove html tags from a string\"\"\"\n",
    "    text=str(text)\n",
    "    clean = re.compile('<.*?>')\n",
    "    return re.sub(clean, '', text)"
   ]
  },
  {
   "cell_type": "code",
   "execution_count": 19,
   "metadata": {},
   "outputs": [
    {
     "name": "stdout",
     "output_type": "stream",
     "text": [
      "2223\n"
     ]
    }
   ],
   "source": [
    "def get_count(text):\n",
    "    text=str(text)\n",
    "    num=int(re.findall(r'\\d+', text)[0])\n",
    "    return num\n",
    "\n",
    "print(get_count(\"2223*\"))"
   ]
  },
  {
   "cell_type": "code",
   "execution_count": 22,
   "metadata": {},
   "outputs": [],
   "source": [
    "counts=soup.findAll(\"span\", {\"style\":\"width:3.5em; padding:0 0.3em 0 0; text-align:right; display:inline-block\"})\n",
    "\n",
    "dates=soup.findAll(\"td\",{\"colspan\":\"2\",\"style\":\"padding-left:0.4em; padding-right:0.4em; text-align:center\"})"
   ]
  },
  {
   "cell_type": "code",
   "execution_count": 29,
   "metadata": {},
   "outputs": [],
   "source": [
    "dates=[remove_html_tags(x) for x in dates]\n",
    "lst=list()\n",
    "for no in counts:\n",
    "    try:\n",
    "        lst.append(get_count(remove_html_tags(no)))\n",
    "    except:\n",
    "        pass"
   ]
  },
  {
   "cell_type": "code",
   "execution_count": 33,
   "metadata": {},
   "outputs": [],
   "source": [
    "counts=lst"
   ]
  },
  {
   "cell_type": "code",
   "execution_count": 10,
   "metadata": {},
   "outputs": [],
   "source": [
    "import matplotlib.pyplot as plt"
   ]
  },
  {
   "cell_type": "code",
   "execution_count": 34,
   "metadata": {},
   "outputs": [],
   "source": [
    "daily=dict(zip(dates,counts))"
   ]
  },
  {
   "cell_type": "code",
   "execution_count": 35,
   "metadata": {},
   "outputs": [
    {
     "data": {
      "text/plain": [
       "{'2020-01-30': 1,\n",
       " '⋮': 65,\n",
       " '2020-02-02': 2,\n",
       " '2020-02-03': 3,\n",
       " '2020-03-02': 6,\n",
       " '2020-03-03': 9,\n",
       " '2020-03-04': 32,\n",
       " '2020-03-05': 33,\n",
       " '2020-03-06': 34,\n",
       " '2020-03-07': 37,\n",
       " '2020-03-08': 43,\n",
       " '2020-03-09': 50,\n",
       " '2020-03-10': 65,\n",
       " '2020-03-12': 77,\n",
       " '2020-03-13': 87,\n",
       " '2020-03-14': 107,\n",
       " '2020-03-15': 113,\n",
       " '2020-03-16': 127,\n",
       " '2020-03-17': 146,\n",
       " '2020-03-18': 171,\n",
       " '2020-03-19': 199,\n",
       " '2020-03-20': 258,\n",
       " '2020-03-21': 334,\n",
       " '2020-03-22': 408,\n",
       " '2020-03-23': 505,\n",
       " '2020-03-24': 571,\n",
       " '2020-03-25': 657,\n",
       " '2020-03-26': 735,\n",
       " '2020-03-27': 863}"
      ]
     },
     "execution_count": 35,
     "metadata": {},
     "output_type": "execute_result"
    }
   ],
   "source": [
    "daily"
   ]
  },
  {
   "cell_type": "code",
   "execution_count": 36,
   "metadata": {},
   "outputs": [],
   "source": [
    "del daily['⋮']\n",
    "del daily['2020-01-30']\n",
    "del daily['2020-02-02']\n",
    "del daily['2020-02-03']\n",
    "daily['2020-03-01']=3\n",
    "daily['2020-03-11']=65"
   ]
  },
  {
   "cell_type": "code",
   "execution_count": 37,
   "metadata": {},
   "outputs": [
    {
     "data": {
      "text/plain": [
       "{'2020-03-02': 6,\n",
       " '2020-03-03': 9,\n",
       " '2020-03-04': 32,\n",
       " '2020-03-05': 33,\n",
       " '2020-03-06': 34,\n",
       " '2020-03-07': 37,\n",
       " '2020-03-08': 43,\n",
       " '2020-03-09': 50,\n",
       " '2020-03-10': 65,\n",
       " '2020-03-12': 77,\n",
       " '2020-03-13': 87,\n",
       " '2020-03-14': 107,\n",
       " '2020-03-15': 113,\n",
       " '2020-03-16': 127,\n",
       " '2020-03-17': 146,\n",
       " '2020-03-18': 171,\n",
       " '2020-03-19': 199,\n",
       " '2020-03-20': 258,\n",
       " '2020-03-21': 334,\n",
       " '2020-03-22': 408,\n",
       " '2020-03-23': 505,\n",
       " '2020-03-24': 571,\n",
       " '2020-03-25': 657,\n",
       " '2020-03-26': 735,\n",
       " '2020-03-27': 863,\n",
       " '2020-03-01': 3,\n",
       " '2020-03-11': 65}"
      ]
     },
     "execution_count": 37,
     "metadata": {},
     "output_type": "execute_result"
    }
   ],
   "source": [
    "daily"
   ]
  },
  {
   "cell_type": "code",
   "execution_count": 38,
   "metadata": {},
   "outputs": [],
   "source": [
    "daily=dict(zip(sorted(daily),sorted(daily.values())))"
   ]
  },
  {
   "cell_type": "code",
   "execution_count": 39,
   "metadata": {},
   "outputs": [
    {
     "data": {
      "text/plain": [
       "{'2020-03-01': 3,\n",
       " '2020-03-02': 6,\n",
       " '2020-03-03': 9,\n",
       " '2020-03-04': 32,\n",
       " '2020-03-05': 33,\n",
       " '2020-03-06': 34,\n",
       " '2020-03-07': 37,\n",
       " '2020-03-08': 43,\n",
       " '2020-03-09': 50,\n",
       " '2020-03-10': 65,\n",
       " '2020-03-11': 65,\n",
       " '2020-03-12': 77,\n",
       " '2020-03-13': 87,\n",
       " '2020-03-14': 107,\n",
       " '2020-03-15': 113,\n",
       " '2020-03-16': 127,\n",
       " '2020-03-17': 146,\n",
       " '2020-03-18': 171,\n",
       " '2020-03-19': 199,\n",
       " '2020-03-20': 258,\n",
       " '2020-03-21': 334,\n",
       " '2020-03-22': 408,\n",
       " '2020-03-23': 505,\n",
       " '2020-03-24': 571,\n",
       " '2020-03-25': 657,\n",
       " '2020-03-26': 735,\n",
       " '2020-03-27': 863}"
      ]
     },
     "execution_count": 39,
     "metadata": {},
     "output_type": "execute_result"
    }
   ],
   "source": [
    "daily"
   ]
  },
  {
   "cell_type": "code",
   "execution_count": null,
   "metadata": {},
   "outputs": [],
   "source": []
  },
  {
   "cell_type": "code",
   "execution_count": 91,
   "metadata": {},
   "outputs": [],
   "source": [
    "wiki_url=\"https://en.wikipedia.org/wiki/2020_coronavirus_pandemic_in_India\"\n",
    "wiki_response=requests.get(wiki_url)\n",
    "\n",
    "wiki = BeautifulSoup(wiki_response.text, \"html.parser\")\n",
    "\n",
    "counts=wiki.findAll(\"span\", {\"style\":\"width:2.45em; padding:0 0.3em 0 0; text-align:right; display:inline-block\"})\n",
    "dates=wiki.findAll(\"td\",{\"colspan\":\"2\",\"style\":\"padding-left:0.4em; padding-right:0.4em; text-align:center\"})\n",
    "\n",
    "counts=[get_count(remove_html_tags(x)) for x in counts]\n",
    "dates=[remove_html_tags(x) for x in dates]\n",
    "\n",
    "daily=dict(zip(dates,counts))\n",
    "\n",
    "del daily['⋮']\n",
    "del daily['2020-01-30']\n",
    "del daily['2020-02-02']\n",
    "del daily['2020-02-03']\n",
    "daily['2020-03-01']=3\n",
    "daily['2020-03-11']=65\n",
    "days=dict()\n",
    "days[\"date\"]=sorted(daily)\n",
    "days[\"total\"]=sorted(daily.values())"
   ]
  },
  {
   "cell_type": "code",
   "execution_count": 94,
   "metadata": {},
   "outputs": [],
   "source": [
    "tests=wiki.find(\"table\",{\"class\":\"wikitable plainrowheaders\"})"
   ]
  },
  {
   "cell_type": "code",
   "execution_count": 107,
   "metadata": {},
   "outputs": [
    {
     "data": {
      "text/plain": [
       "[<td style=\"text-align:right;\">25,144\n",
       " </td>, <td style=\"text-align:right;\">19\n",
       " </td>, <td style=\"text-align:right;\">24,254\n",
       " </td>, <td style=\"text-align:right;\">581\n",
       " </td>, <td colspan=\"2\" style=\"text-align:right;\">As of 25 March<sup class=\"reference\" id=\"cite_ref-ICMRtests_138-0\"><a href=\"#cite_note-ICMRtests-138\">[138]</a></sup>\n",
       " </td>]"
      ]
     },
     "execution_count": 107,
     "metadata": {},
     "output_type": "execute_result"
    }
   ],
   "source": [
    "ppp=tests.find_all('td')\n",
    "ppp"
   ]
  },
  {
   "cell_type": "code",
   "execution_count": 111,
   "metadata": {},
   "outputs": [
    {
     "data": {
      "text/plain": [
       "'24,254'"
      ]
     },
     "execution_count": 111,
     "metadata": {},
     "output_type": "execute_result"
    }
   ],
   "source": [
    "ppp[2].text.replace('\\n', '')"
   ]
  },
  {
   "cell_type": "code",
   "execution_count": 106,
   "metadata": {},
   "outputs": [
    {
     "data": {
      "text/plain": [
       "[25, 19, 24, 581, 2]"
      ]
     },
     "execution_count": 106,
     "metadata": {},
     "output_type": "execute_result"
    }
   ],
   "source": [
    "ppp"
   ]
  },
  {
   "cell_type": "code",
   "execution_count": 114,
   "metadata": {},
   "outputs": [
    {
     "data": {
      "text/plain": [
       "'223333'"
      ]
     },
     "execution_count": 114,
     "metadata": {},
     "output_type": "execute_result"
    }
   ],
   "source": [
    "aa='22,3333'.replace(\",\",\"\")\n",
    "aa"
   ]
  },
  {
   "cell_type": "code",
   "execution_count": 113,
   "metadata": {},
   "outputs": [
    {
     "ename": "ValueError",
     "evalue": "invalid literal for int() with base 10: '22,3333'",
     "output_type": "error",
     "traceback": [
      "\u001b[1;31m---------------------------------------------------------------------------\u001b[0m",
      "\u001b[1;31mValueError\u001b[0m                                Traceback (most recent call last)",
      "\u001b[1;32m<ipython-input-113-c9218d9ef2cc>\u001b[0m in \u001b[0;36m<module>\u001b[1;34m\u001b[0m\n\u001b[1;32m----> 1\u001b[1;33m \u001b[0mint\u001b[0m\u001b[1;33m(\u001b[0m\u001b[0maa\u001b[0m\u001b[1;33m)\u001b[0m\u001b[1;33m\u001b[0m\u001b[1;33m\u001b[0m\u001b[0m\n\u001b[0m",
      "\u001b[1;31mValueError\u001b[0m: invalid literal for int() with base 10: '22,3333'"
     ]
    }
   ],
   "source": [
    "int(aa)"
   ]
  },
  {
   "cell_type": "code",
   "execution_count": 14,
   "metadata": {},
   "outputs": [],
   "source": [
    "table = soup.find(\"table\",{\"class\":\"wikitable plainrowheaders\"})\n",
    "rows = table.find_all('td')"
   ]
  },
  {
   "cell_type": "code",
   "execution_count": 15,
   "metadata": {},
   "outputs": [
    {
     "data": {
      "text/plain": [
       "'As of 27 March[148]\\n'"
      ]
     },
     "execution_count": 15,
     "metadata": {},
     "output_type": "execute_result"
    }
   ],
   "source": [
    "remove_html_tags(rows[4])"
   ]
  },
  {
   "cell_type": "code",
   "execution_count": 22,
   "metadata": {},
   "outputs": [
    {
     "data": {
      "text/plain": [
       "{'passengers': '15,24,266',\n",
       " 'infected': '901',\n",
       " 'cured': '95',\n",
       " 'death': '27',\n",
       " 'migrated': '1',\n",
       " 'source': 'mohfw'}"
      ]
     },
     "execution_count": 22,
     "metadata": {},
     "output_type": "execute_result"
    }
   ],
   "source": [
    "url=\"https://www.mohfw.gov.in/\"\n",
    "response=requests.get(url)\n",
    "soup = BeautifulSoup(response.text, \"html.parser\")\n",
    "\n",
    "\n",
    "counts=soup.findAll(\"span\", {\"class\": \"icount\"})\n",
    "info_labels=['passengers','infected','cured','death','migrated']\n",
    "info_counts=[remove_html_tags(x) for x in counts]\n",
    "info=dict(zip(info_labels,info_counts))\n",
    "info['source'] = 'mohfw'\n",
    "\n",
    "url=\"https://www.worldometers.info/coronavirus/country/india/\"\n",
    "response=requests.get(url)\n",
    "\n",
    "worldo=BeautifulSoup(response.text, \"html.parser\")\n",
    "worldo_counts=worldo.findAll(\"div\",{\"class\": \"maincounter-number\"})\n",
    "worldo_counts=[get_count(remove_html_tags(x)) for x in worldo_counts]\n",
    "labels=['infected','death','cured']\n",
    "info2=dict(zip(labels,worldo_counts))\n",
    "\n",
    "info"
   ]
  },
  {
   "cell_type": "code",
   "execution_count": 27,
   "metadata": {},
   "outputs": [
    {
     "data": {
      "text/plain": [
       "{'passengers': '15,24,266',\n",
       " 'infected': '901',\n",
       " 'cured': '95',\n",
       " 'death': '27',\n",
       " 'migrated': '1',\n",
       " 'source': 'mohfw',\n",
       " 'confirmed': 1024}"
      ]
     },
     "execution_count": 27,
     "metadata": {},
     "output_type": "execute_result"
    }
   ],
   "source": [
    "info['confirmed']=(int(info['infected'])+int(info['cured'])+int(info['death'])+int(info['migrated']))\n",
    "info"
   ]
  },
  {
   "cell_type": "code",
   "execution_count": null,
   "metadata": {},
   "outputs": [],
   "source": [
    "active=info2['infected']-info2['death']-info2['cured']-int(info['migrated'])\n",
    "if(int(info['infected'])>active):\n",
    "    info['confirmed']=str(int['infected']+int(info['cured'])+int(info['death'])+int(info['migrated']))\n",
    "else:\n",
    "    info['infected']=str(active)\n",
    "    info['death']=str(info2['death'])\n",
    "    info['cured']=str(info2['cured'])\n",
    "    info['confirmed']=str(info2['infected'])\n",
    "    info['source'] = 'worldometers'"
   ]
  },
  {
   "cell_type": "code",
   "execution_count": 3,
   "metadata": {},
   "outputs": [],
   "source": [
    "lst=[1787]"
   ]
  },
  {
   "cell_type": "code",
   "execution_count": 7,
   "metadata": {},
   "outputs": [],
   "source": [
    "for i in range(1,30):\n",
    "    lst.append(lst[i-1]*0.165+lst[i-1])"
   ]
  },
  {
   "cell_type": "code",
   "execution_count": 8,
   "metadata": {},
   "outputs": [
    {
     "data": {
      "text/plain": [
       "37900.33596384799"
      ]
     },
     "execution_count": 8,
     "metadata": {},
     "output_type": "execute_result"
    }
   ],
   "source": [
    "max(lst)"
   ]
  },
  {
   "cell_type": "code",
   "execution_count": null,
   "metadata": {},
   "outputs": [],
   "source": []
  }
 ],
 "metadata": {
  "kernelspec": {
   "display_name": "Python 3",
   "language": "python",
   "name": "python3"
  },
  "language_info": {
   "codemirror_mode": {
    "name": "ipython",
    "version": 3
   },
   "file_extension": ".py",
   "mimetype": "text/x-python",
   "name": "python",
   "nbconvert_exporter": "python",
   "pygments_lexer": "ipython3",
   "version": "3.7.4"
  }
 },
 "nbformat": 4,
 "nbformat_minor": 2
}
