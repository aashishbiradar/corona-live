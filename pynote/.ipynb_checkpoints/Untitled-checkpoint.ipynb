{
 "cells": [
  {
   "cell_type": "code",
   "execution_count": 66,
   "metadata": {},
   "outputs": [],
   "source": [
    "import requests\n",
    "import urllib.request\n",
    "import time\n",
    "from bs4 import BeautifulSoup\n",
    "from datetime import datetime\n",
    "import re"
   ]
  },
  {
   "cell_type": "code",
   "execution_count": 67,
   "metadata": {},
   "outputs": [],
   "source": [
    "url=\"https://en.wikipedia.org/wiki/2020_coronavirus_pandemic_in_India\"\n",
    "response=requests.get(url)"
   ]
  },
  {
   "cell_type": "code",
   "execution_count": 68,
   "metadata": {},
   "outputs": [
    {
     "data": {
      "text/plain": [
       "<Response [200]>"
      ]
     },
     "execution_count": 68,
     "metadata": {},
     "output_type": "execute_result"
    }
   ],
   "source": [
    "response"
   ]
  },
  {
   "cell_type": "code",
   "execution_count": 69,
   "metadata": {},
   "outputs": [],
   "source": [
    "soup = BeautifulSoup(response.text, \"html.parser\")"
   ]
  },
  {
   "cell_type": "code",
   "execution_count": 70,
   "metadata": {},
   "outputs": [],
   "source": [
    "def remove_html_tags(text):\n",
    "    \"\"\"Remove html tags from a string\"\"\"\n",
    "    text=str(text)\n",
    "    clean = re.compile('<.*?>')\n",
    "    return re.sub(clean, '', text)"
   ]
  },
  {
   "cell_type": "code",
   "execution_count": 71,
   "metadata": {},
   "outputs": [
    {
     "name": "stdout",
     "output_type": "stream",
     "text": [
      "2223\n"
     ]
    }
   ],
   "source": [
    "def get_count(text):\n",
    "    text=str(text)\n",
    "    num=int(re.findall(r'\\d+', text)[0])\n",
    "    return num\n",
    "\n",
    "print(get_count(\"2223*\"))"
   ]
  },
  {
   "cell_type": "code",
   "execution_count": 72,
   "metadata": {},
   "outputs": [],
   "source": [
    "counts=soup.findAll(\"span\", {\"style\":\"width:2.45em; padding:0 0.3em 0 0; text-align:right; display:inline-block\"})\n",
    "dates=soup.findAll(\"td\",{\"colspan\":\"2\",\"style\":\"padding-left:0.4em; padding-right:0.4em; text-align:center\"})"
   ]
  },
  {
   "cell_type": "code",
   "execution_count": 73,
   "metadata": {},
   "outputs": [],
   "source": [
    "counts=[get_count(remove_html_tags(x)) for x in counts]\n",
    "dates=[remove_html_tags(x) for x in dates]"
   ]
  },
  {
   "cell_type": "code",
   "execution_count": 74,
   "metadata": {},
   "outputs": [
    {
     "data": {
      "text/plain": [
       "['2020-01-30',\n",
       " '⋮',\n",
       " '2020-02-02',\n",
       " '2020-02-03',\n",
       " '⋮',\n",
       " '2020-03-02',\n",
       " '2020-03-03',\n",
       " '2020-03-04',\n",
       " '2020-03-05',\n",
       " '2020-03-06',\n",
       " '2020-03-07',\n",
       " '2020-03-08',\n",
       " '2020-03-09',\n",
       " '2020-03-10',\n",
       " '⋮',\n",
       " '2020-03-12',\n",
       " '2020-03-13',\n",
       " '2020-03-14',\n",
       " '2020-03-15',\n",
       " '2020-03-16',\n",
       " '2020-03-17',\n",
       " '2020-03-18',\n",
       " '2020-03-19',\n",
       " '2020-03-20',\n",
       " '2020-03-21',\n",
       " '2020-03-22',\n",
       " '2020-03-23',\n",
       " '2020-03-24',\n",
       " '2020-03-25']"
      ]
     },
     "execution_count": 74,
     "metadata": {},
     "output_type": "execute_result"
    }
   ],
   "source": [
    "dates"
   ]
  },
  {
   "cell_type": "code",
   "execution_count": 75,
   "metadata": {},
   "outputs": [],
   "source": [
    "import matplotlib.pyplot as plt"
   ]
  },
  {
   "cell_type": "code",
   "execution_count": 76,
   "metadata": {},
   "outputs": [
    {
     "name": "stdout",
     "output_type": "stream",
     "text": [
      "29\n"
     ]
    },
    {
     "data": {
      "text/plain": [
       "[<matplotlib.lines.Line2D at 0x156c7045a48>]"
      ]
     },
     "execution_count": 76,
     "metadata": {},
     "output_type": "execute_result"
    },
    {
     "data": {
      "image/png": "[encoded data removed]",
      "text/plain": [
       "<Figure size 432x288 with 1 Axes>"
      ]
     },
     "metadata": {
      "needs_background": "light"
     },
     "output_type": "display_data"
    }
   ],
   "source": [
    "print(len(counts))\n",
    "x_label=[x for x in range(len(counts))]\n",
    "plt.plot(x_label,counts)"
   ]
  },
  {
   "cell_type": "code",
   "execution_count": 77,
   "metadata": {},
   "outputs": [],
   "source": [
    "daily=dict(zip(dates,counts))"
   ]
  },
  {
   "cell_type": "code",
   "execution_count": 78,
   "metadata": {},
   "outputs": [
    {
     "data": {
      "text/plain": [
       "{'2020-01-30': 1,\n",
       " '⋮': 65,\n",
       " '2020-02-02': 2,\n",
       " '2020-02-03': 3,\n",
       " '2020-03-02': 6,\n",
       " '2020-03-03': 9,\n",
       " '2020-03-04': 32,\n",
       " '2020-03-05': 33,\n",
       " '2020-03-06': 34,\n",
       " '2020-03-07': 37,\n",
       " '2020-03-08': 43,\n",
       " '2020-03-09': 50,\n",
       " '2020-03-10': 65,\n",
       " '2020-03-12': 77,\n",
       " '2020-03-13': 85,\n",
       " '2020-03-14': 100,\n",
       " '2020-03-15': 110,\n",
       " '2020-03-16': 114,\n",
       " '2020-03-17': 140,\n",
       " '2020-03-18': 170,\n",
       " '2020-03-19': 198,\n",
       " '2020-03-20': 249,\n",
       " '2020-03-21': 329,\n",
       " '2020-03-22': 391,\n",
       " '2020-03-23': 468,\n",
       " '2020-03-24': 519,\n",
       " '2020-03-25': 606}"
      ]
     },
     "execution_count": 78,
     "metadata": {},
     "output_type": "execute_result"
    }
   ],
   "source": [
    "daily"
   ]
  },
  {
   "cell_type": "code",
   "execution_count": 79,
   "metadata": {},
   "outputs": [],
   "source": [
    "del daily['⋮']\n",
    "del daily['2020-01-30']\n",
    "del daily['2020-02-02']\n",
    "del daily['2020-02-03']\n",
    "daily['2020-03-01']=3\n",
    "daily['2020-03-11']=65"
   ]
  },
  {
   "cell_type": "code",
   "execution_count": 80,
   "metadata": {},
   "outputs": [
    {
     "data": {
      "text/plain": [
       "{'2020-03-02': 6,\n",
       " '2020-03-03': 9,\n",
       " '2020-03-04': 32,\n",
       " '2020-03-05': 33,\n",
       " '2020-03-06': 34,\n",
       " '2020-03-07': 37,\n",
       " '2020-03-08': 43,\n",
       " '2020-03-09': 50,\n",
       " '2020-03-10': 65,\n",
       " '2020-03-12': 77,\n",
       " '2020-03-13': 85,\n",
       " '2020-03-14': 100,\n",
       " '2020-03-15': 110,\n",
       " '2020-03-16': 114,\n",
       " '2020-03-17': 140,\n",
       " '2020-03-18': 170,\n",
       " '2020-03-19': 198,\n",
       " '2020-03-20': 249,\n",
       " '2020-03-21': 329,\n",
       " '2020-03-22': 391,\n",
       " '2020-03-23': 468,\n",
       " '2020-03-24': 519,\n",
       " '2020-03-25': 606,\n",
       " '2020-03-01': 3,\n",
       " '2020-03-11': 65}"
      ]
     },
     "execution_count": 80,
     "metadata": {},
     "output_type": "execute_result"
    }
   ],
   "source": [
    "daily"
   ]
  },
  {
   "cell_type": "code",
   "execution_count": 81,
   "metadata": {},
   "outputs": [],
   "source": [
    "daily=dict(zip(sorted(daily),sorted(daily.values())))"
   ]
  },
  {
   "cell_type": "code",
   "execution_count": 82,
   "metadata": {},
   "outputs": [
    {
     "data": {
      "text/plain": [
       "{'2020-03-01': 3,\n",
       " '2020-03-02': 6,\n",
       " '2020-03-03': 9,\n",
       " '2020-03-04': 32,\n",
       " '2020-03-05': 33,\n",
       " '2020-03-06': 34,\n",
       " '2020-03-07': 37,\n",
       " '2020-03-08': 43,\n",
       " '2020-03-09': 50,\n",
       " '2020-03-10': 65,\n",
       " '2020-03-11': 65,\n",
       " '2020-03-12': 77,\n",
       " '2020-03-13': 85,\n",
       " '2020-03-14': 100,\n",
       " '2020-03-15': 110,\n",
       " '2020-03-16': 114,\n",
       " '2020-03-17': 140,\n",
       " '2020-03-18': 170,\n",
       " '2020-03-19': 198,\n",
       " '2020-03-20': 249,\n",
       " '2020-03-21': 329,\n",
       " '2020-03-22': 391,\n",
       " '2020-03-23': 468,\n",
       " '2020-03-24': 519,\n",
       " '2020-03-25': 606}"
      ]
     },
     "execution_count": 82,
     "metadata": {},
     "output_type": "execute_result"
    }
   ],
   "source": [
    "daily"
   ]
  },
  {
   "cell_type": "code",
   "execution_count": null,
   "metadata": {},
   "outputs": [],
   "source": []
  },
  {
   "cell_type": "code",
   "execution_count": 91,
   "metadata": {},
   "outputs": [],
   "source": [
    "wiki_url=\"https://en.wikipedia.org/wiki/2020_coronavirus_pandemic_in_India\"\n",
    "wiki_response=requests.get(wiki_url)\n",
    "\n",
    "wiki = BeautifulSoup(wiki_response.text, \"html.parser\")\n",
    "\n",
    "counts=wiki.findAll(\"span\", {\"style\":\"width:2.45em; padding:0 0.3em 0 0; text-align:right; display:inline-block\"})\n",
    "dates=wiki.findAll(\"td\",{\"colspan\":\"2\",\"style\":\"padding-left:0.4em; padding-right:0.4em; text-align:center\"})\n",
    "\n",
    "counts=[get_count(remove_html_tags(x)) for x in counts]\n",
    "dates=[remove_html_tags(x) for x in dates]\n",
    "\n",
    "daily=dict(zip(dates,counts))\n",
    "\n",
    "del daily['⋮']\n",
    "del daily['2020-01-30']\n",
    "del daily['2020-02-02']\n",
    "del daily['2020-02-03']\n",
    "daily['2020-03-01']=3\n",
    "daily['2020-03-11']=65\n",
    "days=dict()\n",
    "days[\"date\"]=sorted(daily)\n",
    "days[\"total\"]=sorted(daily.values())"
   ]
  },
  {
   "cell_type": "code",
   "execution_count": 94,
   "metadata": {},
   "outputs": [],
   "source": [
    "tests=wiki.find(\"table\",{\"class\":\"wikitable plainrowheaders\"})"
   ]
  },
  {
   "cell_type": "code",
   "execution_count": 107,
   "metadata": {},
   "outputs": [
    {
     "data": {
      "text/plain": [
       "[<td style=\"text-align:right;\">25,144\n",
       " </td>, <td style=\"text-align:right;\">19\n",
       " </td>, <td style=\"text-align:right;\">24,254\n",
       " </td>, <td style=\"text-align:right;\">581\n",
       " </td>, <td colspan=\"2\" style=\"text-align:right;\">As of 25 March<sup class=\"reference\" id=\"cite_ref-ICMRtests_138-0\"><a href=\"#cite_note-ICMRtests-138\">[138]</a></sup>\n",
       " </td>]"
      ]
     },
     "execution_count": 107,
     "metadata": {},
     "output_type": "execute_result"
    }
   ],
   "source": [
    "ppp=tests.find_all('td')\n",
    "ppp"
   ]
  },
  {
   "cell_type": "code",
   "execution_count": 110,
   "metadata": {},
   "outputs": [
    {
     "data": {
      "text/plain": [
       "'19'"
      ]
     },
     "execution_count": 110,
     "metadata": {},
     "output_type": "execute_result"
    }
   ],
   "source": [
    "ppp[].text.replace('\\n', '')"
   ]
  },
  {
   "cell_type": "code",
   "execution_count": 106,
   "metadata": {},
   "outputs": [
    {
     "data": {
      "text/plain": [
       "[25, 19, 24, 581, 2]"
      ]
     },
     "execution_count": 106,
     "metadata": {},
     "output_type": "execute_result"
    }
   ],
   "source": [
    "ppp"
   ]
  },
  {
   "cell_type": "code",
   "execution_count": null,
   "metadata": {},
   "outputs": [],
   "source": []
  }
 ],
 "metadata": {
  "kernelspec": {
   "display_name": "Python 3",
   "language": "python",
   "name": "python3"
  },
  "language_info": {
   "codemirror_mode": {
    "name": "ipython",
    "version": 3
   },
   "file_extension": ".py",
   "mimetype": "text/x-python",
   "name": "python",
   "nbconvert_exporter": "python",
   "pygments_lexer": "ipython3",
   "version": "3.7.4"
  }
 },
 "nbformat": 4,
 "nbformat_minor": 2
}
